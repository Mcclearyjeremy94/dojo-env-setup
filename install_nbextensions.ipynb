{
 "cells": [
  {
   "cell_type": "markdown",
   "id": "a0f7e920",
   "metadata": {},
   "source": [
    "# Step 2.6 Installing nbextensions"
   ]
  },
  {
   "cell_type": "markdown",
   "id": "d99b6696",
   "metadata": {},
   "source": [
    "## Programmatic Instructions "
   ]
  },
  {
   "cell_type": "markdown",
   "id": "aa988a91",
   "metadata": {},
   "source": [
    "> **Note: this will only activate each extension, it will not change their settings.** \n",
    "\n",
    "- First, run the following cell to turn on all of the recommended extensions. \n",
    "\n",
    "- Second, manually change the options for each of the extensions listed below:"
   ]
  },
  {
   "cell_type": "code",
   "execution_count": null,
   "id": "8b2e72ef",
   "metadata": {},
   "outputs": [],
   "source": [
    "## Run the cell below to install extensions\n",
    "!pip install jupyter_contrib_nbextensions==0.5.1\n",
    "!jupyter contrib nbextension install --user\n",
    "!jupyter nbextension enable jupyter_nbextensions_configurator"
   ]
  },
  {
   "cell_type": "code",
   "execution_count": null,
   "id": "13f23892",
   "metadata": {},
   "outputs": [],
   "source": [
    "!jupyter nbextension enable toc2/main # Table of Contents (2)\n",
    "!jupyter nbextension enable collapsible_headings/main # Collapsible Headings\n",
    "!jupyter nbextension enable ruler/main # Ruler\n",
    "!jupyter nbextension enable livemdpreview/livemdpreview  # LiveMd Preview\n",
    "!jupyter nbextension enable spellchecker/main # Spellchecker"
   ]
  },
  {
   "cell_type": "code",
   "execution_count": null,
   "id": "b2a8c053",
   "metadata": {},
   "outputs": [],
   "source": [
    "## CHeck if nbextensions installed\n",
    "!jupyter nbextension list"
   ]
  },
  {
   "cell_type": "code",
   "execution_count": null,
   "id": "37189779",
   "metadata": {
    "scrolled": true
   },
   "outputs": [],
   "source": [
    "print(f\"[i] nbextensions have been enabled!\")\n",
    "print(\"    - Click the refresh button on your browser to reload the notebook interface with the new extensions.\")\n"
   ]
  },
  {
   "cell_type": "markdown",
   "id": "d62176b8",
   "metadata": {},
   "source": [
    "> Now, please see step 2.6 for details on which settings to activate for each extension"
   ]
  },
  {
   "cell_type": "markdown",
   "id": "e49ae04f",
   "metadata": {},
   "source": [
    "## Recommended extensions & settings\n",
    "\n",
    "\n",
    "\n",
    "- `Table of Contents (2)`: \n",
    "    - Clickable sidebar with markdown headers as bookmarks/links.\n",
    "    - Recommended options:\n",
    "        - Uncheck `Automatically number notebook sections`\n",
    "        - Change `Maximum level of nested sections to display on the tables of contents` to 3.\n",
    "        -  Check `Display Table of Contents as a sidebar (otherwise as a floating window)`\n",
    "        - Check `Collapse/uncollapse ToC sections when the collapsible_headings nbextension is used to collapse/uncollapse sections in the notebook. For the inverse behaviour, see collapsible_headings' configuration`\n",
    "\n",
    "\n",
    "\n",
    "- `Collapsible Headings`: Collapse sections of your notebook using markdown headers.\n",
    "    - Recommended options: \n",
    "        -  Check 'Collapse/uncollapse notebook sections when the ToC2 nbextension is used to collapse/uncollapse sections in the table of contents. For the inverse behaviour, see ToC2's configuration' at towards the bottom of the options.\n",
    "\n",
    "\n",
    "- `Live Markdown Preview`: Shows a preview of what the markdown cell you are editing will look like once you render it with Shift+Enter\n",
    "    - Recommended options:\n",
    "        - Check `Show the input & output of markdown cells side-by-side while editing them.`\n",
    "\n",
    "- `Ruler` (not Ruler in Editor)\n",
    "- `spellchecker`"
   ]
  }
 ],
 "metadata": {
  "kernelspec": {
   "display_name": "Python (dojo-env)",
   "language": "python",
   "name": "dojo-env"
  },
  "language_info": {
   "codemirror_mode": {
    "name": "ipython",
    "version": 3
   },
   "file_extension": ".py",
   "mimetype": "text/x-python",
   "name": "python",
   "nbconvert_exporter": "python",
   "pygments_lexer": "ipython3",
   "version": "3.9.15"
  },
  "toc": {
   "base_numbering": 1,
   "nav_menu": {},
   "number_sections": false,
   "sideBar": true,
   "skip_h1_title": false,
   "title_cell": "Table of Contents",
   "title_sidebar": "Contents",
   "toc_cell": false,
   "toc_position": {},
   "toc_section_display": true,
   "toc_window_display": true
  }
 },
 "nbformat": 4,
 "nbformat_minor": 5
}
